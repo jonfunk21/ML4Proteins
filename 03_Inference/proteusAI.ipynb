{
 "cells": [
  {
   "cell_type": "markdown",
   "id": "ec46a125-433d-4529-8353-3fce3e1703ff",
   "metadata": {},
   "source": [
    "# ProteusAI\n",
    "\n",
    "In this notebook you are going to learn how we can use ProteusAI (PAI) to automate lots of stuff we did in the previous days. We are going to focus on computing representations, visualizing representations spaces, training models and model ensembles and evaluating the quality of the models.\n",
    "\n",
    "We are also going to preview some other functions that can be used by PAI to handle other input data types like structures, how to visualize these, how to design novel sequences given a target structure and how to use protein language models (pLMs) to predict substitution probabilities.\n",
    "\n",
    "## Loading tabular data and computing representations\n",
    "first we have to import proteusAI, I always import it as pai so I don't always have to write the full name."
   ]
  },
  {
   "cell_type": "code",
   "execution_count": null,
   "id": "b9195ab0-3536-423e-8fe9-1990f3dda08c",
   "metadata": {},
   "outputs": [],
   "source": [
    "import proteusAI as pai\n",
    "import matplotlib.pyplot as plt\n",
    "%matplotlib inline"
   ]
  },
  {
   "cell_type": "markdown",
   "id": "f16521fd-dffe-486c-9c69-0c9aef0552de",
   "metadata": {},
   "source": [
    "We are loading our 'source' data, the enzyme data using the 'Library'"
   ]
  },
  {
   "cell_type": "code",
   "execution_count": null,
   "id": "bee38bfc-da32-4bb5-9715-d12312bc36a0",
   "metadata": {},
   "outputs": [],
   "source": [
    "enzyme_data = \"Nitric_Oxide_Dioxygenase.csv\"\n",
    "\n",
    "lib = pai.Library(\n",
    "    source=enzyme_data, \n",
    "    seqs_col=\"Sequence\", \n",
    "    names_col=\"Description\", \n",
    "    y_col=\"Data\",\n",
    "    y_type=\"num\"\n",
    ")"
   ]
  },
  {
   "cell_type": "markdown",
   "id": "3ce10e71-aecc-4636-9c92-1bfaa1ccb80e",
   "metadata": {},
   "source": [
    "We can compute and plot BLOSUM62 representations in a single line"
   ]
  },
  {
   "cell_type": "code",
   "execution_count": null,
   "id": "e2d2100c-2644-4714-9e48-fa1d10d5e3f2",
   "metadata": {},
   "outputs": [],
   "source": [
    "fig, ax, df = lib.plot(\"blosum62\")\n",
    "plt.show()"
   ]
  },
  {
   "cell_type": "markdown",
   "id": "af2b849b-50cb-41d8-ab71-44d37840924f",
   "metadata": {},
   "source": [
    "## Protein Language models in PAI\n",
    "\n",
    "using protein language models in PAI is equally easy. We can simply use the function Library.compute() and specify the model we want to use. In this case we are going to use ESM-2, which is a state of the art protein language model. However, to speed the process up, we are going to use the 8 million parameter model (the smallest) which is not as powerful as the 650 million parameter model or the billion parameter models."
   ]
  },
  {
   "cell_type": "code",
   "execution_count": null,
   "id": "2c8bb740-a69f-447b-8955-3f5dfb9a4539",
   "metadata": {},
   "outputs": [],
   "source": [
    "lib.compute(\"esm2_8M\")"
   ]
  },
  {
   "cell_type": "markdown",
   "id": "fb9d2c00-4407-4b83-8ad5-72387ee289f9",
   "metadata": {},
   "source": [
    "Again, we can visualize the representation space, by calling the Library.plot() method"
   ]
  },
  {
   "cell_type": "code",
   "execution_count": null,
   "id": "4a171482-eddd-48cc-9cad-c706239a9ce5",
   "metadata": {},
   "outputs": [],
   "source": [
    "fig, ax, df = lib.plot(\"esm2_8M\")\n",
    "plt.show()"
   ]
  },
  {
   "cell_type": "markdown",
   "id": "89a0d0a5-2fb5-402f-8999-ab9881b5f35c",
   "metadata": {},
   "source": [
    "## Training machine learning models\n",
    "\n",
    "To train machine learning models, similar to the first day, we can simply create a Model object that uses our Library as input and use the Model.train() method. The training output is captured in a dictionary that we can inspect, or we can use it as data source to create a Library object, this could be useful if we now for example wanted to plot the representations space using the predicted y_values."
   ]
  },
  {
   "cell_type": "code",
   "execution_count": null,
   "id": "520a142b-d650-4c7f-b57d-3df0b1143eab",
   "metadata": {},
   "outputs": [],
   "source": [
    "model = pai.Model(\n",
    "    library=lib, \n",
    "    model_type=\"rf\", \n",
    "    x=\"blosum62\",\n",
    "    k_folds=10\n",
    ")\n",
    "out = model.train()"
   ]
  },
  {
   "cell_type": "markdown",
   "id": "ba867714-ef61-4405-b6a3-6f4aa2b207f3",
   "metadata": {},
   "source": [
    "## Model statistics\n",
    "\n",
    "Training the model will print some model statistics, but we can go deeper. While training the model, PAI automatically computes models statistics that can be used to inspect the models performance. It will compute R-squared values, pearson correlation coefficients, Kendall-Tau correlation coefficients, and perform a conformal prediction analysis to estimate how noisy your model + experiments are. Let's print some of those values and show a model diagnostics plot."
   ]
  },
  {
   "cell_type": "code",
   "execution_count": null,
   "id": "52810305-3711-442f-b221-0eab3cb815c9",
   "metadata": {},
   "outputs": [],
   "source": [
    "print(\"Validation R-squared:\\t\", model.test_r2)\n",
    "print(\"Validation Pearson:\\t\", model.test_pearson)\n",
    "print(\"Validation Kendall-Tau:\\t\", model.test_ken_tau)\n",
    "print(\"Model calibration:\\t\", model.calibration)\n",
    "\n",
    "model.true_vs_predicted(model.y_test, model.y_test_pred)"
   ]
  },
  {
   "cell_type": "markdown",
   "id": "eb6955df-27c1-4174-aa46-278b1546f5aa",
   "metadata": {},
   "source": [
    "We see, that the Pearson correlation and the Kendall-Tau correlation coefficients are also equipped with pvalues to indicate statistical significance of these metrics."
   ]
  },
  {
   "cell_type": "markdown",
   "id": "e2094866-d58d-49cd-bbed-27f2dec49757",
   "metadata": {},
   "source": [
    "**Task**: Plot the correlation of the true model error, versus the model uncertainty values with the residuals of the predicted versus the true validation y values. Do we observe that the model uncertainty correlates with the observed error?\n",
    "\n",
    "Tip to access values:\n",
    "- true validation y values = model.y_val\n",
    "- predicted validation y values = model.y_val_pred"
   ]
  },
  {
   "cell_type": "code",
   "execution_count": null,
   "id": "f317349c-60d9-4165-9c0a-9b1d8443f921",
   "metadata": {},
   "outputs": [],
   "source": []
  },
  {
   "cell_type": "markdown",
   "id": "e0b65c82-cc4f-408f-b30f-90ce100e8484",
   "metadata": {},
   "source": [
    "## Bayesian optimization in PAI\n",
    "\n",
    "Once we have trained a model in PAI, we can use it to predict the activity of novel sequences, or immediately to predict the next experiments we could do. below we are using the upper confidence bound acquisition function, we are aiming to maximize our y-value, evaluate 10000 sequences per run and are quite exploitative."
   ]
  },
  {
   "cell_type": "code",
   "execution_count": null,
   "id": "9b414256-21f7-4779-84f5-d782b5bc8788",
   "metadata": {},
   "outputs": [],
   "source": [
    "out = model.search(\n",
    "    acq_fn=\"ucb\",\n",
    "    optim_problem=\"max\",\n",
    "    max_eval=10000,\n",
    "    explore=0.1\n",
    ")"
   ]
  },
  {
   "cell_type": "code",
   "execution_count": null,
   "id": "ed3de725-2bd7-4eaa-a52d-43376aa62d75",
   "metadata": {},
   "outputs": [],
   "source": [
    "out"
   ]
  },
  {
   "cell_type": "markdown",
   "id": "19f57956-2f03-4660-9a46-0ee11222b50c",
   "metadata": {},
   "source": [
    "**Optional Task**: Come up with a method to do balance multiple objectives at once - This is going to be difficult, as a tip, read about what a Pareto-front is, remember that you can train multiple models on the same data."
   ]
  },
  {
   "cell_type": "code",
   "execution_count": null,
   "id": "598e5173-7445-49f0-94e8-8250fcebfd77",
   "metadata": {},
   "outputs": [],
   "source": []
  },
  {
   "cell_type": "markdown",
   "id": "d247b9b2-9462-4bd4-8757-43eb7c1fea58",
   "metadata": {},
   "source": [
    "# Protein Class\n",
    "\n",
    "The protein class can be used to load protein sequences and protein structural information. this is particularily useful if we want to engineer a protein, but don't know where to make the first mutations, or if we want to engineer the protein based on its structure (for example to increase the thermostability). The protein class can also be used to perform data visualizations.\n",
    "\n",
    "## Loading a protein structure and visualizing it"
   ]
  },
  {
   "cell_type": "code",
   "execution_count": null,
   "id": "bc014d77-9637-4339-9165-e78e47e1666d",
   "metadata": {},
   "outputs": [],
   "source": [
    "prot = pai.Protein(source=\"1zb6.pdb\")"
   ]
  },
  {
   "cell_type": "code",
   "execution_count": null,
   "id": "35a665a6-9990-414d-907c-2997f521cecb",
   "metadata": {},
   "outputs": [],
   "source": [
    "prot.view_struc()"
   ]
  },
  {
   "cell_type": "markdown",
   "id": "c2cf879e-5cb4-42dd-bc1d-75a508cf69f7",
   "metadata": {},
   "source": [
    "PAI also offers methods to extract interfaces, such as protein ligand interfaces. These interfaces can be important information when performing structure based design workflows."
   ]
  },
  {
   "cell_type": "code",
   "execution_count": null,
   "id": "bfdcbb0a-90bd-4840-8c08-702d26ce003d",
   "metadata": {},
   "outputs": [],
   "source": [
    "interface = prot.get_contacts(target=\"ligand\", dist=7)\n",
    "highlight = {\"A\":interface}\n",
    "\n",
    "prot.view_struc(\n",
    "    highlight=highlight,\n",
    "    #sticks=interface\n",
    ")"
   ]
  },
  {
   "cell_type": "markdown",
   "id": "a0311ed1-d71c-4bf9-8af7-8c111d4a26ce",
   "metadata": {},
   "source": [
    "## Structure based design\n",
    "\n",
    "In the following we are going to use an inverse folding algorithm (ESM-IF) to sample sequences conditioned on our input structure. It has been shown, that sequences sampled through inverse folding algorithms often show increased themostability and expression levels. In some cases, even properties like catalytic activity can be increased."
   ]
  },
  {
   "cell_type": "code",
   "execution_count": null,
   "id": "04d75cb0-bf80-448e-bbd0-e3ea34e6846d",
   "metadata": {},
   "outputs": [],
   "source": [
    "out = prot.esm_if(\n",
    "    num_samples=10,\n",
    "    target_chain=\"A\",\n",
    "    fixed=interface\n",
    ")"
   ]
  },
  {
   "cell_type": "code",
   "execution_count": null,
   "id": "33b4f590-5dea-43c3-a8d2-18acab346169",
   "metadata": {},
   "outputs": [],
   "source": [
    "out"
   ]
  },
  {
   "cell_type": "code",
   "execution_count": null,
   "id": "95295018-dc5f-408e-8f96-abcf9879ccc6",
   "metadata": {},
   "outputs": [],
   "source": []
  }
 ],
 "metadata": {
  "kernelspec": {
   "display_name": "Python 3 (ipykernel)",
   "language": "python",
   "name": "python3"
  },
  "language_info": {
   "codemirror_mode": {
    "name": "ipython",
    "version": 3
   },
   "file_extension": ".py",
   "mimetype": "text/x-python",
   "name": "python",
   "nbconvert_exporter": "python",
   "pygments_lexer": "ipython3",
   "version": "3.8.20"
  }
 },
 "nbformat": 4,
 "nbformat_minor": 5
}
